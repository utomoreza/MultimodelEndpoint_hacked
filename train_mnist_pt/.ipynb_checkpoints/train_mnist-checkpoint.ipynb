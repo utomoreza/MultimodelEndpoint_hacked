{
 "cells": [
  {
   "cell_type": "code",
   "execution_count": 3,
   "metadata": {},
   "outputs": [],
   "source": [
    "from torch import Tensor"
   ]
  },
  {
   "cell_type": "code",
   "execution_count": null,
   "metadata": {
    "scrolled": true
   },
   "outputs": [
    {
     "name": "stdout",
     "output_type": "stream",
     "text": [
      "/opt/conda/lib/python3.8/site-packages/torchvision/io/image.py:11: UserWarning: Failed to load image Python extension: \n",
      "  warn(f\"Failed to load image Python extension: {e}\")\n",
      "[2022-07-08 01:53:14.858 pytorch-1-10-cpu-py38-ml-t3-medium-944c0e75ccd7b66bc889b527c517:3633 INFO utils.py:27] RULE_JOB_STOP_SIGNAL_FILENAME: None\n",
      "/opt/conda/lib/python3.8/site-packages/smdebug-1.0.13b20220304-py3.8.egg/smdebug/profiler/system_metrics_reader.py:63: SyntaxWarning: \"is not\" with a literal. Did you mean \"!=\"?\n",
      "/opt/conda/lib/python3.8/site-packages/smdebug-1.0.13b20220304-py3.8.egg/smdebug/profiler/system_metrics_reader.py:63: SyntaxWarning: \"is not\" with a literal. Did you mean \"!=\"?\n",
      "[2022-07-08 01:53:15.023 pytorch-1-10-cpu-py38-ml-t3-medium-944c0e75ccd7b66bc889b527c517:3633 INFO profiler_config_parser.py:111] Unable to find config at /opt/ml/input/config/profilerconfig.json. Profiler is disabled.\n",
      "Train Epoch: 1 [0/60000 (0%)]\tLoss: 2.305400\n",
      "Train Epoch: 1 [640/60000 (1%)]\tLoss: 1.359776\n",
      "Train Epoch: 1 [1280/60000 (2%)]\tLoss: 0.842884\n",
      "Train Epoch: 1 [1920/60000 (3%)]\tLoss: 0.587047\n",
      "Train Epoch: 1 [2560/60000 (4%)]\tLoss: 0.368678\n",
      "Train Epoch: 1 [3200/60000 (5%)]\tLoss: 0.467805\n",
      "Train Epoch: 1 [3840/60000 (6%)]\tLoss: 0.264740\n",
      "Train Epoch: 1 [4480/60000 (7%)]\tLoss: 0.290356\n",
      "Train Epoch: 1 [5120/60000 (9%)]\tLoss: 0.595939\n",
      "Train Epoch: 1 [5760/60000 (10%)]\tLoss: 0.218168\n",
      "Train Epoch: 1 [6400/60000 (11%)]\tLoss: 0.243224\n",
      "Train Epoch: 1 [7040/60000 (12%)]\tLoss: 0.337902\n",
      "Train Epoch: 1 [7680/60000 (13%)]\tLoss: 0.204281\n",
      "Train Epoch: 1 [8320/60000 (14%)]\tLoss: 0.198724\n",
      "Train Epoch: 1 [8960/60000 (15%)]\tLoss: 0.256030\n",
      "Train Epoch: 1 [9600/60000 (16%)]\tLoss: 0.102404\n",
      "Train Epoch: 1 [10240/60000 (17%)]\tLoss: 0.285428\n",
      "Train Epoch: 1 [10880/60000 (18%)]\tLoss: 0.085992\n",
      "Train Epoch: 1 [11520/60000 (19%)]\tLoss: 0.394311\n",
      "Train Epoch: 1 [12160/60000 (20%)]\tLoss: 0.260500\n",
      "Train Epoch: 1 [12800/60000 (21%)]\tLoss: 0.245468\n",
      "Train Epoch: 1 [13440/60000 (22%)]\tLoss: 0.196203\n",
      "Train Epoch: 1 [14080/60000 (23%)]\tLoss: 0.125240\n",
      "Train Epoch: 1 [14720/60000 (25%)]\tLoss: 0.360481\n",
      "Train Epoch: 1 [15360/60000 (26%)]\tLoss: 0.156831\n",
      "Train Epoch: 1 [16000/60000 (27%)]\tLoss: 0.109000\n",
      "Train Epoch: 1 [16640/60000 (28%)]\tLoss: 0.191683\n",
      "Train Epoch: 1 [17280/60000 (29%)]\tLoss: 0.079399\n",
      "Train Epoch: 1 [17920/60000 (30%)]\tLoss: 0.184621\n",
      "Train Epoch: 1 [18560/60000 (31%)]\tLoss: 0.208152\n",
      "Train Epoch: 1 [19200/60000 (32%)]\tLoss: 0.258079\n",
      "Train Epoch: 1 [19840/60000 (33%)]\tLoss: 0.070126\n",
      "Train Epoch: 1 [20480/60000 (34%)]\tLoss: 0.042293\n",
      "Train Epoch: 1 [21120/60000 (35%)]\tLoss: 0.221636\n",
      "Train Epoch: 1 [21760/60000 (36%)]\tLoss: 0.010604\n",
      "Train Epoch: 1 [22400/60000 (37%)]\tLoss: 0.073102\n",
      "Train Epoch: 1 [23040/60000 (38%)]\tLoss: 0.224114\n",
      "Train Epoch: 1 [23680/60000 (39%)]\tLoss: 0.168495\n",
      "Train Epoch: 1 [24320/60000 (41%)]\tLoss: 0.011931\n",
      "Train Epoch: 1 [24960/60000 (42%)]\tLoss: 0.109281\n",
      "Train Epoch: 1 [25600/60000 (43%)]\tLoss: 0.096041\n",
      "Train Epoch: 1 [26240/60000 (44%)]\tLoss: 0.065005\n",
      "Train Epoch: 1 [26880/60000 (45%)]\tLoss: 0.321659\n",
      "Train Epoch: 1 [27520/60000 (46%)]\tLoss: 0.218280\n",
      "Train Epoch: 1 [28160/60000 (47%)]\tLoss: 0.112409\n",
      "Train Epoch: 1 [28800/60000 (48%)]\tLoss: 0.102555\n",
      "Train Epoch: 1 [29440/60000 (49%)]\tLoss: 0.032941\n",
      "Train Epoch: 1 [30080/60000 (50%)]\tLoss: 0.120205\n",
      "Train Epoch: 1 [30720/60000 (51%)]\tLoss: 0.049908\n",
      "Train Epoch: 1 [31360/60000 (52%)]\tLoss: 0.114343\n",
      "Train Epoch: 1 [32000/60000 (53%)]\tLoss: 0.223494\n",
      "Train Epoch: 1 [32640/60000 (54%)]\tLoss: 0.126283\n",
      "Train Epoch: 1 [33280/60000 (55%)]\tLoss: 0.072201\n",
      "Train Epoch: 1 [33920/60000 (57%)]\tLoss: 0.015314\n",
      "Train Epoch: 1 [34560/60000 (58%)]\tLoss: 0.020230\n",
      "Train Epoch: 1 [35200/60000 (59%)]\tLoss: 0.208774\n",
      "Train Epoch: 1 [35840/60000 (60%)]\tLoss: 0.167295\n",
      "Train Epoch: 1 [36480/60000 (61%)]\tLoss: 0.039265\n",
      "Train Epoch: 1 [37120/60000 (62%)]\tLoss: 0.131742\n",
      "Train Epoch: 1 [37760/60000 (63%)]\tLoss: 0.148422\n",
      "Train Epoch: 1 [38400/60000 (64%)]\tLoss: 0.160930\n",
      "Train Epoch: 1 [39040/60000 (65%)]\tLoss: 0.043422\n",
      "Train Epoch: 1 [39680/60000 (66%)]\tLoss: 0.020198\n",
      "Train Epoch: 1 [40320/60000 (67%)]\tLoss: 0.086514\n",
      "Train Epoch: 1 [40960/60000 (68%)]\tLoss: 0.106491\n",
      "Train Epoch: 1 [41600/60000 (69%)]\tLoss: 0.082101\n",
      "Train Epoch: 1 [42240/60000 (70%)]\tLoss: 0.084835\n",
      "Train Epoch: 1 [42880/60000 (71%)]\tLoss: 0.089140\n",
      "Train Epoch: 1 [43520/60000 (72%)]\tLoss: 0.218622\n",
      "Train Epoch: 1 [44160/60000 (74%)]\tLoss: 0.056600\n",
      "Train Epoch: 1 [44800/60000 (75%)]\tLoss: 0.153486\n",
      "Train Epoch: 1 [45440/60000 (76%)]\tLoss: 0.217498\n",
      "Train Epoch: 1 [46080/60000 (77%)]\tLoss: 0.143425\n",
      "Train Epoch: 1 [46720/60000 (78%)]\tLoss: 0.193844\n",
      "Train Epoch: 1 [47360/60000 (79%)]\tLoss: 0.138899\n",
      "Train Epoch: 1 [48000/60000 (80%)]\tLoss: 0.104541\n",
      "Train Epoch: 1 [48640/60000 (81%)]\tLoss: 0.021387\n",
      "Train Epoch: 1 [49280/60000 (82%)]\tLoss: 0.058249\n",
      "Train Epoch: 1 [49920/60000 (83%)]\tLoss: 0.109436\n",
      "Train Epoch: 1 [50560/60000 (84%)]\tLoss: 0.084625\n",
      "Train Epoch: 1 [51200/60000 (85%)]\tLoss: 0.276656\n",
      "Train Epoch: 1 [51840/60000 (86%)]\tLoss: 0.020397\n",
      "Train Epoch: 1 [52480/60000 (87%)]\tLoss: 0.009882\n",
      "Train Epoch: 1 [53120/60000 (88%)]\tLoss: 0.136443\n",
      "Train Epoch: 1 [53760/60000 (90%)]\tLoss: 0.060548\n",
      "Train Epoch: 1 [54400/60000 (91%)]\tLoss: 0.102135\n",
      "Train Epoch: 1 [55040/60000 (92%)]\tLoss: 0.038856\n",
      "Train Epoch: 1 [55680/60000 (93%)]\tLoss: 0.107410\n",
      "Train Epoch: 1 [56320/60000 (94%)]\tLoss: 0.104453\n",
      "Train Epoch: 1 [56960/60000 (95%)]\tLoss: 0.134494\n",
      "Train Epoch: 1 [57600/60000 (96%)]\tLoss: 0.154591\n",
      "Train Epoch: 1 [58240/60000 (97%)]\tLoss: 0.030696\n",
      "Train Epoch: 1 [58880/60000 (98%)]\tLoss: 0.011366\n",
      "Train Epoch: 1 [59520/60000 (99%)]\tLoss: 0.001087\n",
      "\n",
      "Test set: Average loss: 0.0442, Accuracy: 9852/10000 (99%)\n",
      "\n",
      "Train Epoch: 2 [0/60000 (0%)]\tLoss: 0.136853\n",
      "Train Epoch: 2 [640/60000 (1%)]\tLoss: 0.063620\n",
      "Train Epoch: 2 [1280/60000 (2%)]\tLoss: 0.071777\n",
      "Train Epoch: 2 [1920/60000 (3%)]\tLoss: 0.091061\n",
      "Train Epoch: 2 [2560/60000 (4%)]\tLoss: 0.047630\n",
      "Train Epoch: 2 [3200/60000 (5%)]\tLoss: 0.058254\n",
      "Train Epoch: 2 [3840/60000 (6%)]\tLoss: 0.007498\n",
      "Train Epoch: 2 [4480/60000 (7%)]\tLoss: 0.076565\n",
      "Train Epoch: 2 [5120/60000 (9%)]\tLoss: 0.108606\n",
      "Train Epoch: 2 [5760/60000 (10%)]\tLoss: 0.095040\n",
      "Train Epoch: 2 [6400/60000 (11%)]\tLoss: 0.213469\n",
      "Train Epoch: 2 [7040/60000 (12%)]\tLoss: 0.189592\n",
      "Train Epoch: 2 [7680/60000 (13%)]\tLoss: 0.093578\n",
      "Train Epoch: 2 [8320/60000 (14%)]\tLoss: 0.018539\n",
      "Train Epoch: 2 [8960/60000 (15%)]\tLoss: 0.122895\n",
      "Train Epoch: 2 [9600/60000 (16%)]\tLoss: 0.033237\n",
      "Train Epoch: 2 [10240/60000 (17%)]\tLoss: 0.096837\n",
      "Train Epoch: 2 [10880/60000 (18%)]\tLoss: 0.027688\n",
      "Train Epoch: 2 [11520/60000 (19%)]\tLoss: 0.113109\n",
      "Train Epoch: 2 [12160/60000 (20%)]\tLoss: 0.055877\n",
      "Train Epoch: 2 [12800/60000 (21%)]\tLoss: 0.090238\n"
     ]
    }
   ],
   "source": [
    "!python main.py --epoch 2 --save-model"
   ]
  },
  {
   "cell_type": "code",
   "execution_count": 27,
   "metadata": {},
   "outputs": [],
   "source": [
    "import torch\n",
    "import torch.nn as nn\n",
    "import torch.nn.functional as F\n",
    "from torchvision import datasets, transforms"
   ]
  },
  {
   "cell_type": "code",
   "execution_count": 28,
   "metadata": {},
   "outputs": [],
   "source": [
    "class Net(nn.Module):\n",
    "    def __init__(self):\n",
    "        super(Net, self).__init__()\n",
    "        self.conv1 = nn.Conv2d(1, 32, 3, 1)\n",
    "        self.conv2 = nn.Conv2d(32, 64, 3, 1)\n",
    "        self.dropout1 = nn.Dropout(0.25)\n",
    "        self.dropout2 = nn.Dropout(0.5)\n",
    "        self.fc1 = nn.Linear(9216, 128)\n",
    "        self.fc2 = nn.Linear(128, 10)\n",
    "\n",
    "    def forward(self, x):\n",
    "        x = self.conv1(x)\n",
    "        x = F.relu(x)\n",
    "        x = self.conv2(x)\n",
    "        x = F.relu(x)\n",
    "        x = F.max_pool2d(x, 2)\n",
    "        x = self.dropout1(x)\n",
    "        x = torch.flatten(x, 1)\n",
    "        x = self.fc1(x)\n",
    "        x = F.relu(x)\n",
    "        x = self.dropout2(x)\n",
    "        x = self.fc2(x)\n",
    "        output = F.log_softmax(x, dim=1)\n",
    "        return output"
   ]
  },
  {
   "cell_type": "code",
   "execution_count": 8,
   "metadata": {},
   "outputs": [],
   "source": [
    "model = torch.load(\"mnist_cnn.pt\")"
   ]
  },
  {
   "cell_type": "code",
   "execution_count": 12,
   "metadata": {},
   "outputs": [],
   "source": [
    "transform=transforms.Compose([\n",
    "        transforms.ToTensor(),\n",
    "        transforms.Normalize((0.1307,), (0.3081,))\n",
    "        ])\n",
    "\n",
    "test_kwargs = {'batch_size': 1000}"
   ]
  },
  {
   "cell_type": "code",
   "execution_count": 43,
   "metadata": {},
   "outputs": [],
   "source": [
    "# dataset2 = datasets.MNIST('../data', train=False,\n",
    "#                    transform=transform)\n",
    "test_loader = torch.utils.data.DataLoader(dataset2, **test_kwargs)"
   ]
  },
  {
   "cell_type": "code",
   "execution_count": 21,
   "metadata": {},
   "outputs": [],
   "source": [
    "device = torch.device(\"cpu\")"
   ]
  },
  {
   "cell_type": "code",
   "execution_count": 29,
   "metadata": {},
   "outputs": [
    {
     "data": {
      "text/plain": [
       "Net(\n",
       "  (conv1): Conv2d(1, 32, kernel_size=(3, 3), stride=(1, 1))\n",
       "  (conv2): Conv2d(32, 64, kernel_size=(3, 3), stride=(1, 1))\n",
       "  (dropout1): Dropout(p=0.25, inplace=False)\n",
       "  (dropout2): Dropout(p=0.5, inplace=False)\n",
       "  (fc1): Linear(in_features=9216, out_features=128, bias=True)\n",
       "  (fc2): Linear(in_features=128, out_features=10, bias=True)\n",
       ")"
      ]
     },
     "execution_count": 29,
     "metadata": {},
     "output_type": "execute_result"
    }
   ],
   "source": [
    "model = Net().to(device)\n",
    "model.load_state_dict(torch.load(\"mnist_cnn.pt\"))\n",
    "model.eval()"
   ]
  },
  {
   "cell_type": "code",
   "execution_count": 63,
   "metadata": {},
   "outputs": [
    {
     "data": {
      "text/plain": [
       "__main__.Net"
      ]
     },
     "execution_count": 63,
     "metadata": {},
     "output_type": "execute_result"
    }
   ],
   "source": [
    "type(model)"
   ]
  },
  {
   "cell_type": "code",
   "execution_count": 31,
   "metadata": {},
   "outputs": [],
   "source": [
    "for data, target in test_loader:\n",
    "    data, target = data.to(device), target.to(device)\n",
    "    output = model(data)\n",
    "    test_loss = F.nll_loss(output, target, reduction='sum').item()  # sum up batch loss\n",
    "    pred = output.argmax(dim=1, keepdim=True)  # get the index of the max log-probability\n",
    "    break"
   ]
  },
  {
   "cell_type": "code",
   "execution_count": 60,
   "metadata": {},
   "outputs": [
    {
     "data": {
      "text/plain": [
       "torch.Size([1, 1, 28, 28])"
      ]
     },
     "execution_count": 60,
     "metadata": {},
     "output_type": "execute_result"
    }
   ],
   "source": [
    "data[0].expand((1,1,28,28))"
   ]
  },
  {
   "cell_type": "code",
   "execution_count": 61,
   "metadata": {},
   "outputs": [
    {
     "data": {
      "text/plain": [
       "tensor([[7]])"
      ]
     },
     "execution_count": 61,
     "metadata": {},
     "output_type": "execute_result"
    }
   ],
   "source": [
    "out = model(data[0].expand((1,1,28,28)))\n",
    "out.argmax(dim=1, keepdim=True)"
   ]
  },
  {
   "cell_type": "code",
   "execution_count": 62,
   "metadata": {},
   "outputs": [
    {
     "data": {
      "text/plain": [
       "tensor(7)"
      ]
     },
     "execution_count": 62,
     "metadata": {},
     "output_type": "execute_result"
    }
   ],
   "source": [
    "target[0]"
   ]
  },
  {
   "cell_type": "code",
   "execution_count": 37,
   "metadata": {},
   "outputs": [
    {
     "data": {
      "text/plain": [
       "torch.Size([1000])"
      ]
     },
     "execution_count": 37,
     "metadata": {},
     "output_type": "execute_result"
    }
   ],
   "source": [
    "target.shape"
   ]
  },
  {
   "cell_type": "code",
   "execution_count": 34,
   "metadata": {},
   "outputs": [
    {
     "data": {
      "text/plain": [
       "(1000, 1)"
      ]
     },
     "execution_count": 34,
     "metadata": {},
     "output_type": "execute_result"
    }
   ],
   "source": [
    "pred.numpy().shape"
   ]
  },
  {
   "cell_type": "code",
   "execution_count": null,
   "metadata": {},
   "outputs": [],
   "source": []
  }
 ],
 "metadata": {
  "instance_type": "ml.t3.medium",
  "kernelspec": {
   "display_name": "Python 3 (PyTorch 1.10 Python 3.8 CPU Optimized)",
   "language": "python",
   "name": "python3__SAGEMAKER_INTERNAL__arn:aws:sagemaker:ap-southeast-1:492261229750:image/pytorch-1.10-cpu-py38"
  },
  "language_info": {
   "codemirror_mode": {
    "name": "ipython",
    "version": 3
   },
   "file_extension": ".py",
   "mimetype": "text/x-python",
   "name": "python",
   "nbconvert_exporter": "python",
   "pygments_lexer": "ipython3",
   "version": "3.8.10"
  }
 },
 "nbformat": 4,
 "nbformat_minor": 4
}
