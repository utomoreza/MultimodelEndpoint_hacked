{
 "cells": [
  {
   "cell_type": "markdown",
   "id": "2657dc68",
   "metadata": {},
   "source": [
    "# using `Predictor` class"
   ]
  },
  {
   "cell_type": "code",
   "execution_count": null,
   "id": "a3e37a71",
   "metadata": {},
   "outputs": [],
   "source": [
    "import boto3\n",
    "import sagemaker\n",
    "\n",
    "from torch.utils.data import DataLoader\n",
    "from torchvision import datasets, transforms\n",
    "\n",
    "from sagemaker.predictor import Predictor\n",
    "from sagemaker.serializers import JSONSerializer\n",
    "from sagemaker.deserializers import JSONDeserializer"
   ]
  },
  {
   "cell_type": "code",
   "execution_count": null,
   "id": "bcbaed15",
   "metadata": {},
   "outputs": [],
   "source": [
    "# set credentials\n",
    "# but do not hard code credentials as strings. highly not recommended!\n",
    "ACCESS_KEY_ID = \"<your access key id>\"\n",
    "SECRET_ACCESS_KEY = \"<your secret access key>\"\n",
    "REGION = \"<region in which you deployed the endpoint>\""
   ]
  },
  {
   "cell_type": "code",
   "execution_count": null,
   "id": "90502ce1",
   "metadata": {},
   "outputs": [],
   "source": [
    "# set the endpoint_name defined in the deployment process\n",
    "endpoint_name = \"MultiModelTrial\"\n",
    "\n",
    "# instantiate sessions\n",
    "boto_session = boto3.Session(\n",
    "    aws_access_key_id=ACCESS_KEY_ID,\n",
    "    aws_secret_access_key=SECRET_ACCESS_KEY,\n",
    "    region_name=REGION\n",
    ")\n",
    "session = sagemaker.Session(boto_session=boto_session)\n",
    "\n",
    "# instantiate predictor\n",
    "predictor = Predictor(\n",
    "    endpoint_name=endpoint_name,\n",
    "    sagemaker_session=session,\n",
    "    serializer=JSONSerializer(),\n",
    "    deserializer=JSONDeserializer()\n",
    ")"
   ]
  },
  {
   "cell_type": "markdown",
   "id": "441a3576",
   "metadata": {},
   "source": [
    "## model_type == 'image'"
   ]
  },
  {
   "cell_type": "code",
   "execution_count": null,
   "id": "008d7ccb",
   "metadata": {},
   "outputs": [],
   "source": [
    "# prepare test set\n",
    "transform = transforms.Compose([\n",
    "    transforms.ToTensor(),\n",
    "    transforms.Normalize((0.1307,), (0.3081,))\n",
    "])\n",
    "dataset = datasets.MNIST('../data', train=False,\n",
    "                          transform=transform)\n",
    "\n",
    "# extract only 1 data to test\n",
    "test_kwargs = {'batch_size': 1}\n",
    "test_loader = DataLoader(dataset, **test_kwargs)\n",
    "data, target = next(iter(test_loader))\n",
    "\n",
    "# set payload input\n",
    "payload_image = {\n",
    "    \"inputs\": test.cpu().detach().numpy().tolist(),\n",
    "    \"model_type\": \"image\"\n",
    "}\n",
    "\n",
    "# request prediction\n",
    "pred_image = predictor.predict(data=payload_image)"
   ]
  },
  {
   "cell_type": "markdown",
   "id": "e12dc038",
   "metadata": {},
   "source": [
    "## model_type == 'text'"
   ]
  },
  {
   "cell_type": "code",
   "execution_count": null,
   "id": "6c1e17db",
   "metadata": {},
   "outputs": [],
   "source": [
    "# set payload input\n",
    "texts = [\"I really like the song\", \"It's gross! throw it away!\"]\n",
    "payload_text = {\n",
    "    \"inputs\": texts,\n",
    "    \"model_type\": \"text\"\n",
    "}\n",
    "\n",
    "# request prediction\n",
    "pred_text = predictor.predict(data=payload_text)"
   ]
  },
  {
   "cell_type": "code",
   "execution_count": null,
   "id": "0508813a",
   "metadata": {},
   "outputs": [],
   "source": [
    "# see results\n",
    "print(pred_image)\n",
    "print(pred_text)"
   ]
  },
  {
   "cell_type": "markdown",
   "id": "f2e9640c",
   "metadata": {},
   "source": [
    "# using invoke_endpoint() method"
   ]
  },
  {
   "cell_type": "code",
   "execution_count": null,
   "id": "17b0a3c4",
   "metadata": {},
   "outputs": [],
   "source": [
    "import json\n",
    "import boto3\n",
    "\n",
    "from torch.utils.data import DataLoader\n",
    "from torchvision import datasets, transforms"
   ]
  },
  {
   "cell_type": "code",
   "execution_count": null,
   "id": "bb70b847",
   "metadata": {},
   "outputs": [],
   "source": [
    "# set credentials\n",
    "# but do not hard code credentials as strings. highly not recommended!\n",
    "ACCESS_KEY_ID = \"<your access key id>\"\n",
    "SECRET_ACCESS_KEY = \"<your secret access key>\"\n",
    "REGION = \"<region in which you deployed the endpoint>\""
   ]
  },
  {
   "cell_type": "code",
   "execution_count": null,
   "id": "8b5f91e5",
   "metadata": {},
   "outputs": [],
   "source": [
    "# set the endpoint_name defined in the deployment process\n",
    "endpoint_name = \"MultiModelTrial\"\n",
    "\n",
    "# instantiate boto3 client\n",
    "client = boto3.client(\n",
    "    'sagemaker-runtime',\n",
    "    REGION,\n",
    "    aws_access_key_id=ACCESS_KEY_ID,\n",
    "    aws_secret_access_key=SECRET_ACCESS_KEY\n",
    ")"
   ]
  },
  {
   "cell_type": "markdown",
   "id": "1e9352e1",
   "metadata": {},
   "source": [
    "## model_type == 'image'"
   ]
  },
  {
   "cell_type": "code",
   "execution_count": null,
   "id": "278f206a",
   "metadata": {},
   "outputs": [],
   "source": [
    "# prepare test set\n",
    "transform = transforms.Compose([\n",
    "    transforms.ToTensor(),\n",
    "    transforms.Normalize((0.1307,), (0.3081,))\n",
    "])\n",
    "dataset = datasets.MNIST('../data', train=False,\n",
    "                          transform=transform)\n",
    "\n",
    "# extract only 1 data to test\n",
    "test_kwargs = {'batch_size': 1}\n",
    "test_loader = DataLoader(dataset, **test_kwargs)\n",
    "data, target = next(iter(test_loader))\n",
    "\n",
    "# set payload input\n",
    "payload_image = {\n",
    "    \"inputs\": test.cpu().detach().numpy().tolist(),\n",
    "    \"model_type\": \"image\"\n",
    "}\n",
    "\n",
    "# request prediction\n",
    "response_image = client.invoke_endpoint(\n",
    "    EndpointName=endpoint_name,\n",
    "    Body=payload_image,\n",
    "    ContentType='application/json',\n",
    "    Accept='application/json'\n",
    ")\n",
    "result_image = response_image['Body'].read().decode()\n",
    "pred_image = json.loads(result_image)"
   ]
  },
  {
   "cell_type": "markdown",
   "id": "566e5762",
   "metadata": {},
   "source": [
    "## model_type == 'text'"
   ]
  },
  {
   "cell_type": "code",
   "execution_count": null,
   "id": "1a67b6db",
   "metadata": {},
   "outputs": [],
   "source": [
    "# set payload input\n",
    "texts = [\"I really like the song\", \"It's gross! throw it away!\"]\n",
    "payload_text = {\n",
    "    \"inputs\": texts,\n",
    "    \"model_type\": \"text\"\n",
    "}\n",
    "\n",
    "# request prediction\n",
    "response_text = client.invoke_endpoint(\n",
    "    EndpointName=endpoint_name,\n",
    "    Body=payload_text,\n",
    "    ContentType='application/json',\n",
    "    Accept='application/json'\n",
    ")\n",
    "result_text = response_text['Body'].read().decode()\n",
    "pred_text = json.loads(result_text)"
   ]
  },
  {
   "cell_type": "code",
   "execution_count": null,
   "id": "22859c03",
   "metadata": {},
   "outputs": [],
   "source": [
    "# see results\n",
    "print(pred_image)\n",
    "print(pred_text)"
   ]
  }
 ],
 "metadata": {
  "kernelspec": {
   "display_name": "Python 3 (ipykernel)",
   "language": "python",
   "name": "python3"
  },
  "language_info": {
   "codemirror_mode": {
    "name": "ipython",
    "version": 3
   },
   "file_extension": ".py",
   "mimetype": "text/x-python",
   "name": "python",
   "nbconvert_exporter": "python",
   "pygments_lexer": "ipython3",
   "version": "3.9.12"
  }
 },
 "nbformat": 4,
 "nbformat_minor": 5
}
